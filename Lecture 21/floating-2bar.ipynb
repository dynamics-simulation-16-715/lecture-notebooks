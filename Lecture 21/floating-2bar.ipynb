{
 "cells": [
  {
   "cell_type": "code",
   "execution_count": null,
   "id": "6ea74dda",
   "metadata": {},
   "outputs": [],
   "source": [
    "using Pkg; Pkg.activate(@__DIR__); Pkg.instantiate()"
   ]
  },
  {
   "cell_type": "code",
   "execution_count": null,
   "id": "45b4e494",
   "metadata": {},
   "outputs": [],
   "source": [
    "using LinearAlgebra\n",
    "using ForwardDiff\n",
    "using Plots"
   ]
  },
  {
   "cell_type": "code",
   "execution_count": null,
   "id": "21d67ce4",
   "metadata": {},
   "outputs": [],
   "source": [
    "#Parameters\n",
    "m1 = 1.0\n",
    "m2 = 1.0\n",
    "J1 = Diagonal([0.1; 1.0; 1.0])\n",
    "J2 = Diagonal([0.1; 1.0; 1.0])\n",
    "ℓ1 = 1.0\n",
    "ℓ2 = 1.0"
   ]
  },
  {
   "cell_type": "code",
   "execution_count": null,
   "id": "07a5938f",
   "metadata": {},
   "outputs": [],
   "source": [
    "M̄ = [m1*I(3) zeros(3,9);\n",
    "     zeros(3,3) J1 zeros(3,6);\n",
    "     zeros(3,6) m2*I(3) zeros(3,3);\n",
    "     zeros(3,9) J2]"
   ]
  },
  {
   "cell_type": "code",
   "execution_count": null,
   "id": "05035d79",
   "metadata": {},
   "outputs": [],
   "source": [
    "function hat(ω)\n",
    "    return [0 -ω[3] ω[2];\n",
    "            ω[3] 0 -ω[1];\n",
    "            -ω[2] ω[1] 0]\n",
    "end\n",
    "\n",
    "function L(Q)\n",
    "    [Q[1] -Q[2:4]'; Q[2:4] Q[1]*I + hat(Q[2:4])]\n",
    "end\n",
    "\n",
    "function R(Q)\n",
    "    [Q[1] -Q[2:4]'; Q[2:4] Q[1]*I - hat(Q[2:4])]\n",
    "end\n",
    "\n",
    "H = [zeros(1,3); I];\n",
    "\n",
    "T = Diagonal([1.0; -1; -1; -1])\n",
    "\n",
    "function G(Q)\n",
    "    return L(Q)*H\n",
    "end\n",
    "\n",
    "function Ḡ(q)\n",
    "    Q = q[4:7]\n",
    "    return [I(3) zeros(3,4); zeros(4,3) G(Q) zeros(4,1); zeros(1,6) 1]\n",
    "end\n",
    "\n",
    "function G̃(q)\n",
    "    Q = q[4:7]\n",
    "    #return [I(3) zeros(3,4); zeros(4,3) G(Q) zeros(4,1); zeros(1,6) 1]\n",
    "    return [I(3) zeros(3,4); zeros(4,3) 0.5*G(Q) zeros(4,1); zeros(1,6) 1]\n",
    "end"
   ]
  },
  {
   "cell_type": "code",
   "execution_count": null,
   "id": "8087fc23",
   "metadata": {},
   "outputs": [],
   "source": [
    "#Kinematics\n",
    "function kinematics(q)\n",
    "    r0 = q[1:3]\n",
    "    Q0 = q[4:7]\n",
    "    q1 = q[8]\n",
    "    \n",
    "    #H'*L(q)*R(q)'*H\n",
    "    \n",
    "    Q1 = L(Q0)*[cos(q1/2); 0; 0; sin(q1/2)]\n",
    "    r1 = r0 + H'L(Q0)*R(Q0)'*H*[0.5*ℓ1; 0; 0] + H'L(Q1)*R(Q1)'*H*[0.5*ℓ2; 0; 0]\n",
    "    \n",
    "    return [r0; Q0; r1; Q1]\n",
    "end"
   ]
  },
  {
   "cell_type": "code",
   "execution_count": null,
   "id": "01f989d3",
   "metadata": {},
   "outputs": [],
   "source": [
    "#Kinematic Jacobian\n",
    "function K(q)\n",
    "    k = kinematics(q);\n",
    "    r0 = k[1:3]\n",
    "    Q0 = k[4:7]\n",
    "    r1 = k[8:10]\n",
    "    Q1 = k[11:14]\n",
    "    \n",
    "    dk = ForwardDiff.jacobian(dq->kinematics(dq),q)\n",
    "    K = [I(3) zeros(3,11); zeros(3,3) 2*G(Q0)' zeros(3,7); zeros(3,7) I(3) zeros(3,4); zeros(3,10) 2*G(Q1)']*dk*[I(3) zeros(3,4); zeros(4,3) 0.5*G(Q0) zeros(4,1); zeros(1,6) 1.0]\n",
    "end"
   ]
  },
  {
   "cell_type": "code",
   "execution_count": null,
   "id": "7a1b796b",
   "metadata": {},
   "outputs": [],
   "source": [
    "#Mass Matrix\n",
    "function M(q)    \n",
    "    return K(q)'*M̄*K(q)\n",
    "end"
   ]
  },
  {
   "cell_type": "code",
   "execution_count": null,
   "id": "548196ac",
   "metadata": {},
   "outputs": [],
   "source": [
    "M(q0)"
   ]
  },
  {
   "cell_type": "code",
   "execution_count": null,
   "id": "a7c74713",
   "metadata": {},
   "outputs": [],
   "source": [
    "eigvals(M(q0))"
   ]
  },
  {
   "cell_type": "code",
   "execution_count": null,
   "id": "39b37f39",
   "metadata": {},
   "outputs": [],
   "source": [
    "#Potential\n",
    "function U(q)\n",
    "    return 0.0\n",
    "end\n",
    "\n",
    "function DQ0U(q)\n",
    "    r0 = q[1:3]\n",
    "    Q0 = q[4:7]\n",
    "    q1 = q[8]\n",
    "    \n",
    "    ForwardDiff.gradient(dQ0->U([r0; dQ0; q1]), Q0) \n",
    "end"
   ]
  },
  {
   "cell_type": "code",
   "execution_count": null,
   "id": "6854c510",
   "metadata": {},
   "outputs": [],
   "source": [
    "#Lagrangian\n",
    "function Lagrangian(q,v)\n",
    "    0.5*v'*M(q)*v - U(q)\n",
    "end"
   ]
  },
  {
   "cell_type": "code",
   "execution_count": null,
   "id": "c03cbbf0",
   "metadata": {},
   "outputs": [],
   "source": [
    "#Lagrangian Derivatives\n",
    "\n",
    "function Dr0L(q,v)\n",
    "    r0 = q[1:3]\n",
    "    Q0 = q[4:7]\n",
    "    q1 = q[8]\n",
    "    \n",
    "    ForwardDiff.gradient(dr0->Lagrangian([dr0; Q0; q1],v), r0)\n",
    "end\n",
    "\n",
    "function DQ0L(q,v)\n",
    "    r0 = q[1:3]\n",
    "    Q0 = q[4:7]\n",
    "    q1 = q[8]\n",
    "    \n",
    "    ForwardDiff.gradient(dQ0->Lagrangian([r0; dQ0; q1],v), Q0)\n",
    "end\n",
    "\n",
    "function Dq1L(q,v)\n",
    "    r0 = q[1:3]\n",
    "    Q0 = q[4:7]\n",
    "    q1 = q[8]\n",
    "    \n",
    "    ForwardDiff.derivative(dq1->Lagrangian([r0; Q0; dq1],v), q1)\n",
    "end\n",
    "\n",
    "function Dṙ0L(q,v)\n",
    "    ṙ0 = v[1:3]\n",
    "    ω0 = v[4:6]\n",
    "    q̇1 = v[7]\n",
    "    \n",
    "    ForwardDiff.gradient(dṙ0->Lagrangian(q,[dṙ0;ω0;q̇1]), ṙ0)\n",
    "end\n",
    "    \n",
    "function Dω0L(q,v)\n",
    "    ṙ0 = v[1:3]\n",
    "    ω0 = v[4:6]\n",
    "    q̇1 = v[7]\n",
    "    \n",
    "    ForwardDiff.gradient(dω0->Lagrangian(q,[ṙ0;dω0;q̇1]), ω0)\n",
    "end\n",
    "\n",
    "function Dq̇1L(q,v)\n",
    "    ṙ0 = v[1:3]\n",
    "    ω0 = v[4:6]\n",
    "    q̇1 = v[7]\n",
    "    \n",
    "    ForwardDiff.derivative(dq̇1->Lagrangian(q,[ṙ0;ω0;dq̇1]), q̇1)\n",
    "end\n",
    "    "
   ]
  },
  {
   "cell_type": "code",
   "execution_count": null,
   "id": "352bb979",
   "metadata": {},
   "outputs": [],
   "source": [
    "#Input Jacobian\n",
    "function B(q)\n",
    "    #[I(3) zeros(3); zeros(3,4); zeros(1,3) 1.0]\n",
    "    [zeros(6); 1.0]\n",
    "end"
   ]
  },
  {
   "cell_type": "code",
   "execution_count": null,
   "id": "4cb9fda9",
   "metadata": {},
   "outputs": [],
   "source": [
    "#Initial Conditions\n",
    "r0 = zeros(3)\n",
    "Q0 = [1.0; 0; 0; 0]\n",
    "q1 = 0.0\n",
    "q0 = [r0; Q0; q1]\n",
    "\n",
    "q̇1 = 0.0\n",
    "ω0 = zeros(3)\n",
    "#ω0[3] = -q̇1\n",
    "ṙ0 = zeros(3) #cross(ω0,[-0.5*ℓ1; 0; 0])\n",
    "\n",
    "v0 = [ṙ0; ω0; q̇1]\n",
    "x0 = [q0; v0]"
   ]
  },
  {
   "cell_type": "code",
   "execution_count": null,
   "id": "1736da95",
   "metadata": {},
   "outputs": [],
   "source": [
    "#EL Dynamics\n",
    "function f(x,u)\n",
    "    q = x[1:8]\n",
    "    v = x[9:15]\n",
    "    ω = v[4:6]\n",
    "    \n",
    "    q̇ = G̃(q)*v\n",
    "    \n",
    "    v̇ = [ForwardDiff.jacobian(dv->Dṙ0L(q,dv),v);\n",
    "         ForwardDiff.jacobian(dv->Dω0L(q,dv),v);\n",
    "         ForwardDiff.gradient(dv->Dq̇1L(q,dv),v)']\\([-ForwardDiff.jacobian(dq->Dṙ0L(dq,v),q)*G̃(q)*v + Dr0L(q,v);\n",
    "                                                    -ForwardDiff.jacobian(dq->Dω0L(dq,v),q)*G̃(q)*v - hat(ω)*Dω0L(q,v) + 0.5*G(Q0)'*DQ0U(q);\n",
    "                                                    -ForwardDiff.gradient(dq->Dq̇1L(dq,v),q)'*G̃(q)*v + Dq1L(q,v)] + B(q)*u)\n",
    "    \n",
    "    #ForwardDiff.jacobian(dv->Dṙ0L(q,dv),v)*v̇ + ForwardDiff.jacobian(dq->Dṙ0L(dq,v),q)*G̃(q)*v - Dr0L(q,v)\n",
    "    #ForwardDiff.jacobian(dv->Dω0L(q,dv),v)*v̇ + ForwardDiff.jacobian(dq->Dω0L(dq,v),q)*G̃(q)*v + hat(ω)*Dω0L(q,v) - 0.5*H'*L(Q0)'*DQ0L(q,v)\n",
    "    #ForwardDiff.jacobian(dv->Dq̇1L(q,dv),v)*v̇ + ForwardDiff.jacobian(dq->Dq̇1L(dq,v),q)*G̃(q)*v - Dq1L(q,v)\n",
    "    \n",
    "    \n",
    "    return [q̇; v̇]\n",
    "end"
   ]
  },
  {
   "cell_type": "code",
   "execution_count": null,
   "id": "52d4be43",
   "metadata": {},
   "outputs": [],
   "source": [
    "#Simulate with RK4\n",
    "Tf = 6.0\n",
    "h = 0.05 #20 Hz\n",
    "thist = 0:h:Tf\n",
    "N = length(thist)\n",
    "\n",
    "xhist = zeros(15,N)\n",
    "xhist[:,1] .= [q0; v0]\n",
    "\n",
    "#Torque input at joint\n",
    "uhist = .5*[ones(20); -ones(40); zeros(10); ones(40); -ones(10); 0]; #-ones(20); ones(40); 0] #-0.1*sin.(pi*thist)\n",
    "\n",
    "for k = 1:(N-1)\n",
    "    ẋ1 = f(xhist[:,k], uhist[k])\n",
    "    ẋ2 = f(xhist[:,k]+0.5*h*ẋ1, 0.5*(uhist[k]+uhist[k+1]))\n",
    "    ẋ3 = f(xhist[:,k]+0.5*h*ẋ2, 0.5*(uhist[k]+uhist[k+1]))\n",
    "    ẋ4 = f(xhist[:,k]+h*ẋ3, uhist[k+1])\n",
    "    \n",
    "    xhist[:,k+1] = xhist[:,k] + (h/6.0)*(ẋ1 + 2*ẋ2 + 2*ẋ3 + ẋ4)\n",
    "    xhist[4:7,k+1] .= xhist[4:7,k+1]/norm(xhist[4:7,k+1]) #re-normalize quaternion\n",
    "end"
   ]
  },
  {
   "cell_type": "code",
   "execution_count": null,
   "id": "28c2865e",
   "metadata": {},
   "outputs": [],
   "source": [
    "plot(thist, xhist[1,:])\n",
    "plot!(thist, xhist[2,:])\n",
    "plot!(thist, xhist[3,:])"
   ]
  },
  {
   "cell_type": "code",
   "execution_count": null,
   "id": "58e56a60",
   "metadata": {},
   "outputs": [],
   "source": [
    "plot(thist, xhist[4,:])\n",
    "plot!(thist, xhist[5,:])\n",
    "plot!(thist, xhist[6,:])\n",
    "plot!(thist, xhist[7,:])"
   ]
  },
  {
   "cell_type": "code",
   "execution_count": null,
   "id": "d3ea845a",
   "metadata": {},
   "outputs": [],
   "source": [
    "plot(thist, xhist[8,:])"
   ]
  },
  {
   "cell_type": "code",
   "execution_count": null,
   "id": "53fd5a41",
   "metadata": {},
   "outputs": [],
   "source": [
    "plot(thist, xhist[9,:])\n",
    "plot!(thist, xhist[10,:])\n",
    "plot!(thist, xhist[11,:])"
   ]
  },
  {
   "cell_type": "code",
   "execution_count": null,
   "id": "17ad7bd7",
   "metadata": {},
   "outputs": [],
   "source": [
    "plot(thist, xhist[12,:])\n",
    "plot!(thist, xhist[13,:])\n",
    "plot!(thist, xhist[14,:])"
   ]
  },
  {
   "cell_type": "code",
   "execution_count": null,
   "id": "c5a13c52",
   "metadata": {},
   "outputs": [],
   "source": [
    "plot(thist, xhist[15,:])"
   ]
  },
  {
   "cell_type": "code",
   "execution_count": null,
   "id": "9d491787",
   "metadata": {},
   "outputs": [],
   "source": [
    "xkn = kinematics(xhist[:,end])"
   ]
  },
  {
   "cell_type": "code",
   "execution_count": null,
   "id": "81a1e279",
   "metadata": {},
   "outputs": [],
   "source": [
    "xk0 = kinematics(xhist[:,1])"
   ]
  },
  {
   "cell_type": "code",
   "execution_count": null,
   "id": "53de6b61",
   "metadata": {},
   "outputs": [],
   "source": [
    "0.5*(xk0[1:3] + xk0[8:10])"
   ]
  },
  {
   "cell_type": "code",
   "execution_count": null,
   "id": "40b6b783",
   "metadata": {},
   "outputs": [],
   "source": [
    "0.5*(xkn[1:3] + xkn[8:10])"
   ]
  },
  {
   "cell_type": "code",
   "execution_count": null,
   "id": "b1174abd",
   "metadata": {},
   "outputs": [],
   "source": [
    "using MeshCat, GeometryBasics, CoordinateTransformations, Rotations"
   ]
  },
  {
   "cell_type": "code",
   "execution_count": null,
   "id": "1d7bcbf2",
   "metadata": {},
   "outputs": [],
   "source": [
    "vis = Visualizer()\n",
    "render(vis)"
   ]
  },
  {
   "cell_type": "code",
   "execution_count": null,
   "id": "becd9774",
   "metadata": {},
   "outputs": [],
   "source": [
    "delete!(vis)\n",
    "\n",
    "green_material = MeshPhongMaterial(color=RGBA(0, 1, 0, 0.8))\n",
    "cylinder1 = Cylinder(Point(-.5, 0, 0), Point(0.5, 0, 0), 0.1)\n",
    "setobject!(vis[\"cylinder1\"],cylinder1,green_material)\n",
    "\n",
    "red_material = MeshPhongMaterial(color=RGBA(1, 0, 0, 0.8))\n",
    "cylinder2 = Cylinder(Point(-.5, 0, 0), Point(0.5, 0, 0), 0.1)\n",
    "setobject!(vis[\"cylinder2\"],cylinder2,red_material)\n",
    "\n",
    "for k = 1:N\n",
    "    \n",
    "    Xk = kinematics(xhist[:,k])\n",
    "    \n",
    "    # set position and attitude\n",
    "    position1 = Translation(Xk[1:3]...)\n",
    "    attitude1 = LinearMap(UnitQuaternion(Xk[4:7]))\n",
    "    position2 = Translation(Xk[8:10]...)\n",
    "    attitude2 = LinearMap(UnitQuaternion(Xk[11:14]))\n",
    "    \n",
    "    settransform!(vis[\"cylinder1\"], compose(position1,attitude1))\n",
    "    settransform!(vis[\"cylinder2\"], compose(position2,attitude2))\n",
    "    sleep(0.05)\n",
    "end"
   ]
  },
  {
   "cell_type": "code",
   "execution_count": null,
   "id": "6a852ed0",
   "metadata": {},
   "outputs": [],
   "source": []
  }
 ],
 "metadata": {
  "kernelspec": {
   "display_name": "Julia 1.6.7",
   "language": "julia",
   "name": "julia-1.6"
  },
  "language_info": {
   "file_extension": ".jl",
   "mimetype": "application/julia",
   "name": "julia",
   "version": "1.6.7"
  }
 },
 "nbformat": 4,
 "nbformat_minor": 5
}
