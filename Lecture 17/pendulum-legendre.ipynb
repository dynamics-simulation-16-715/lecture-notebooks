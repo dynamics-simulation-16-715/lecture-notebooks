{
 "cells": [
  {
   "cell_type": "code",
   "execution_count": null,
   "id": "07c5fc2d",
   "metadata": {
    "tags": []
   },
   "outputs": [],
   "source": [
    "import Pkg; Pkg.activate(@__DIR__); Pkg.instantiate()"
   ]
  },
  {
   "cell_type": "code",
   "execution_count": null,
   "id": "2da97d0b",
   "metadata": {},
   "outputs": [],
   "source": [
    "using LinearAlgebra\n",
    "using OrdinaryDiffEq\n",
    "using ForwardDiff\n",
    "using Plots"
   ]
  },
  {
   "cell_type": "code",
   "execution_count": null,
   "id": "0665a6c7",
   "metadata": {},
   "outputs": [],
   "source": [
    "#Pendulum Parameters\n",
    "ℓ = 1.0\n",
    "m = 1.0\n",
    "g = 9.81"
   ]
  },
  {
   "cell_type": "code",
   "execution_count": null,
   "id": "d78dd765",
   "metadata": {},
   "outputs": [],
   "source": [
    "#Reference Solution w/ODE Solver\n",
    "\n",
    "#Classical pendulum dynamics\n",
    "function f(x,p,t)\n",
    "    q = x[1]\n",
    "    v = x[2]\n",
    "    \n",
    "    v̇ = -(g/ℓ)*sin(q)\n",
    "    \n",
    "    ẋ = [v; v̇]\n",
    "end\n",
    "\n",
    "#initial conditions\n",
    "x0 = [pi/2; 0]\n",
    "\n",
    "#Simulate\n",
    "tspan = (0.0,100.0)\n",
    "prob = ODEProblem(f,x0,tspan)\n",
    "sol = solve(prob,Tsit5());\n",
    "#sol = solve(prob,Tsit5(),abstol=1e-5,reltol=1e-5);\n",
    "#sol = solve(prob,Tsit5(),abstol=1e-6,reltol=1e-6);"
   ]
  },
  {
   "cell_type": "code",
   "execution_count": null,
   "id": "a61a1d13",
   "metadata": {},
   "outputs": [],
   "source": [
    "plot(sol,idxs=(0,1))"
   ]
  },
  {
   "cell_type": "code",
   "execution_count": null,
   "id": "5cc9ff61",
   "metadata": {},
   "outputs": [],
   "source": [
    "#Energy Functions\n",
    "\n",
    "function T(θ̇)\n",
    "    0.5*m*ℓ*ℓ*θ̇*θ̇\n",
    "end\n",
    "\n",
    "function U(θ)\n",
    "    m*g*ℓ*(1-cos(θ))\n",
    "end\n",
    "\n",
    "function H(x)\n",
    "    U(x[1]) + T(x[2])\n",
    "end"
   ]
  },
  {
   "cell_type": "code",
   "execution_count": null,
   "id": "1ad4c46d",
   "metadata": {},
   "outputs": [],
   "source": [
    "#Plot total energy\n",
    "h = 0.01 #time step\n",
    "tk = 0:h:tspan[2]\n",
    "\n",
    "N = length(tk)\n",
    "E = zeros(N)\n",
    "for k = 1:N\n",
    "    E[k] = H(sol(tk[k]))\n",
    "end\n",
    "\n",
    "plot(tk,E)"
   ]
  },
  {
   "cell_type": "code",
   "execution_count": null,
   "id": "fd1a422b-b4cd-467b-a044-8e15aaafc953",
   "metadata": {},
   "outputs": [],
   "source": [
    "h = 0.001 #time step\n",
    "tk = 0:h:100"
   ]
  },
  {
   "cell_type": "code",
   "execution_count": null,
   "id": "02634e5a-d8d9-4ec5-898f-fce3c70ec624",
   "metadata": {},
   "outputs": [],
   "source": []
  },
  {
   "cell_type": "code",
   "execution_count": null,
   "id": "5f0dd0e1",
   "metadata": {},
   "outputs": [],
   "source": [
    "#Define discrete Lagrangian\n",
    "function L(q,q̇)\n",
    "    T(q̇) - U(q)\n",
    "end\n",
    "\n",
    "function Ld(q1,q2)\n",
    "    θm = 0.5*(q1+q2)\n",
    "    θ̇m = (q2-q1)/h\n",
    "    return h*L(θm,θ̇m)\n",
    "end"
   ]
  },
  {
   "cell_type": "code",
   "execution_count": null,
   "id": "0015d923",
   "metadata": {},
   "outputs": [],
   "source": [
    "#Let's do this again with the discrete Legendre transform\n",
    "\n",
    "function D1Ld(q1,q2)\n",
    "    ForwardDiff.derivative(dq1->Ld(dq1,q2),q1)\n",
    "end\n",
    "\n",
    "function D2Ld(q1,q2)\n",
    "    ForwardDiff.derivative(dq2->Ld(q1,dq2),q2)\n",
    "end\n",
    "\n",
    "#Initial conditions\n",
    "q1 = x0[1]\n",
    "v1 = x0[2]\n",
    "p1 = m*v1\n",
    "\n",
    "qhist = zeros(length(tk))\n",
    "qhist[1] = q1\n",
    "phist = zeros(length(tk))\n",
    "phist[1] = p1\n",
    "\n",
    "for k = 1:(length(tk)-1)\n",
    "    qhist[k+1] = qhist[k]\n",
    "    \n",
    "    #Calculate residual with right discrete Legendre transform\n",
    "    r = phist[k] + D1Ld(qhist[k],qhist[k+1])\n",
    "    \n",
    "    #Newton's method to solve for q_k+1\n",
    "    while norm(r) > 1e-12\n",
    "        R = ForwardDiff.derivative(dqn->D1Ld(qhist[k],dqn),qhist[k+1])\n",
    "        qhist[k+1] = qhist[k+1] - R\\r\n",
    "        r = phist[k] + D1Ld(qhist[k],qhist[k+1])\n",
    "    end\n",
    "    \n",
    "    #Update momentum (left discrete Legendre transform)\n",
    "    phist[k+1] = D2Ld(qhist[k],qhist[k+1])\n",
    "end"
   ]
  },
  {
   "cell_type": "code",
   "execution_count": null,
   "id": "05640b94",
   "metadata": {},
   "outputs": [],
   "source": [
    "plot(qhist)"
   ]
  },
  {
   "cell_type": "code",
   "execution_count": null,
   "id": "f320a139",
   "metadata": {},
   "outputs": [],
   "source": [
    "#Plot energy\n",
    "\n",
    "E2 = zeros(length(tk))\n",
    "for k = 1:(length(tk))\n",
    "    E2[k] = (0.5/m)*phist[k]*phist[k] + U(qhist[k])\n",
    "end\n",
    "\n",
    "plot(E2)\n",
    "#plot!(E)"
   ]
  },
  {
   "cell_type": "code",
   "execution_count": null,
   "id": "0335da0c",
   "metadata": {},
   "outputs": [],
   "source": [
    "#Implicit Midpoint\n",
    "\n",
    "xhist = zeros(2,length(tk))\n",
    "xhist[:,1] .= x0\n",
    "\n",
    "for k = 1:(length(tk)-1)\n",
    "    xhist[:,k+1] .= xhist[:,k]\n",
    "    r = xhist[:,k+1] - xhist[:,k] - h*f(0.5*(xhist[:,k+1]+xhist[:,k]),[],[])\n",
    "    \n",
    "    #Newton's method\n",
    "    while norm(r) > 1e-12\n",
    "        R = I - 0.5*h*ForwardDiff.jacobian(dx->f(dx,[],[]),0.5*(xhist[:,k+1]+xhist[:,k]))\n",
    "        xhist[:,k+1] .= xhist[:,k+1] - R\\r\n",
    "        r = xhist[:,k+1] - xhist[:,k] - h*f(0.5*(xhist[:,k+1]+xhist[:,k]),[],[])\n",
    "    end\n",
    "end"
   ]
  },
  {
   "cell_type": "code",
   "execution_count": null,
   "id": "d433a82f",
   "metadata": {},
   "outputs": [],
   "source": [
    "plot(tk,xhist[1,:])\n",
    "plot!(tk,qhist)"
   ]
  },
  {
   "cell_type": "code",
   "execution_count": null,
   "id": "e733e499",
   "metadata": {},
   "outputs": [],
   "source": [
    "#Plot total energy\n",
    "\n",
    "E3 = zeros(length(tk))\n",
    "for k = 1:(length(tk))\n",
    "    E3[k] = H(xhist[:,k])\n",
    "end"
   ]
  },
  {
   "cell_type": "code",
   "execution_count": null,
   "id": "523520bb",
   "metadata": {},
   "outputs": [],
   "source": [
    "plot(E2)\n",
    "plot!(E3)"
   ]
  },
  {
   "cell_type": "code",
   "execution_count": null,
   "id": "20a9a10c",
   "metadata": {},
   "outputs": [],
   "source": [
    "qhist-xhist[1,:]"
   ]
  },
  {
   "cell_type": "code",
   "execution_count": null,
   "id": "c23c8a0a",
   "metadata": {},
   "outputs": [],
   "source": [
    "phist-xhist[2,:]"
   ]
  },
  {
   "cell_type": "code",
   "execution_count": null,
   "id": "1d6aacba",
   "metadata": {},
   "outputs": [],
   "source": []
  }
 ],
 "metadata": {
  "kernelspec": {
   "display_name": "Julia 1.6.7",
   "language": "julia",
   "name": "julia-1.6"
  },
  "language_info": {
   "file_extension": ".jl",
   "mimetype": "application/julia",
   "name": "julia",
   "version": "1.6.7"
  }
 },
 "nbformat": 4,
 "nbformat_minor": 5
}
