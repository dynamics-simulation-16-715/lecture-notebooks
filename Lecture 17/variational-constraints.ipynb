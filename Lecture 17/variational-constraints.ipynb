{
 "cells": [
  {
   "cell_type": "code",
   "execution_count": null,
   "id": "b52894f4",
   "metadata": {},
   "outputs": [],
   "source": [
    "import Pkg; Pkg.activate(@__DIR__); Pkg.instantiate()"
   ]
  },
  {
   "cell_type": "code",
   "execution_count": null,
   "id": "4c493956",
   "metadata": {},
   "outputs": [],
   "source": [
    "using LinearAlgebra\n",
    "using OrdinaryDiffEq\n",
    "using ForwardDiff\n",
    "using Plots"
   ]
  },
  {
   "cell_type": "code",
   "execution_count": null,
   "id": "fe160263",
   "metadata": {},
   "outputs": [],
   "source": [
    "#Pendulum Parameters\n",
    "ℓ = 1.0\n",
    "m = 1.0\n",
    "g = 9.81"
   ]
  },
  {
   "cell_type": "code",
   "execution_count": null,
   "id": "fcfdb15d",
   "metadata": {},
   "outputs": [],
   "source": [
    "#Reference solution with Baumgarte stabilization\n",
    "function f(x,p,t)\n",
    "    q = x[1:2]\n",
    "    v = x[3:4]\n",
    "    \n",
    "    α = 10.0\n",
    "    β = 3.0\n",
    "    \n",
    "    M = m*I(2)\n",
    "    G = [0.0; m*g]\n",
    "    J = dcdq(q)\n",
    "    \n",
    "    c = constraint(q)\n",
    "    ċ = J*v\n",
    "    d = 2*v'*v\n",
    "    e = J*(M\\(J'*(α*c + β*ċ)))\n",
    "    \n",
    "    z = [M J'; J 0]\\[-G; -(d+e)]\n",
    "    \n",
    "    v̇ = z[1:2]\n",
    "    \n",
    "    ẋ = [v; v̇]\n",
    "end\n",
    "\n",
    "function constraint(q)\n",
    "    return q[1]^2 + q[2]^2 - ℓ^2\n",
    "end\n",
    "\n",
    "function dcdq(q)\n",
    "    return [2*q[1]; 2*q[2]]'\n",
    "end"
   ]
  },
  {
   "cell_type": "code",
   "execution_count": null,
   "id": "11c7fbea",
   "metadata": {},
   "outputs": [],
   "source": [
    "#initial conditions\n",
    "q0 = [1.0; 0]\n",
    "x0 = [q0; 0; 0]"
   ]
  },
  {
   "cell_type": "code",
   "execution_count": null,
   "id": "c8ec96a7",
   "metadata": {},
   "outputs": [],
   "source": [
    "#Simulate\n",
    "tspan = (0.0,10.0)\n",
    "prob = ODEProblem(f,x0,tspan)\n",
    "sol = solve(prob,Tsit5());\n",
    "#sol = solve(prob,Tsit5(),abstol=1e-6,reltol=1e-6);\n",
    "plot(sol)"
   ]
  },
  {
   "cell_type": "code",
   "execution_count": null,
   "id": "0407fa3b",
   "metadata": {},
   "outputs": [],
   "source": [
    "#Calculate constraint violation\n",
    "N = 1000\n",
    "t = LinRange(tspan[1],tspan[2],N)\n",
    "c_error = zeros(N)\n",
    "for k = 1:N\n",
    "    c_error[k] = constraint(sol(t[k])[1:2])\n",
    "end\n",
    "\n",
    "plot(t,c_error)"
   ]
  },
  {
   "cell_type": "code",
   "execution_count": null,
   "id": "9652109c",
   "metadata": {},
   "outputs": [],
   "source": [
    "h = 0.05\n",
    "t = 0:h:10.0\n",
    "\n",
    "function T(q,q̇)\n",
    "    0.5*m*q̇'*q̇\n",
    "end\n",
    "\n",
    "function U(q)\n",
    "    m*g*q[2]\n",
    "end\n",
    "\n",
    "function L(q,q̇)\n",
    "    return T(q,q̇) - U(q)\n",
    "end\n",
    "\n",
    "function Ld(q1,q2)\n",
    "    qm = 0.5*(q1+q2)\n",
    "    q̇m = (q2-q1)/h\n",
    "    return h*L(qm,q̇m)\n",
    "end\n",
    "\n",
    "function DEL(q1,q2,q3,λ)\n",
    "    ForwardDiff.gradient(dq2->Ld(q1,dq2),q2) + ForwardDiff.gradient(dq2->Ld(dq2,q3),q2) + h*λ*dcdq(q2)'\n",
    "end"
   ]
  },
  {
   "cell_type": "code",
   "execution_count": null,
   "id": "ec7a57e5",
   "metadata": {},
   "outputs": [],
   "source": [
    "qhist = zeros(2,length(t))\n",
    "qhist[:,1] .= q0\n",
    "qhist[:,2] .= sol(h)[1:2]\n",
    "\n",
    "for k = 2:(length(t)-1)\n",
    "    #Initial guess for Newton\n",
    "    qhist[:,k+1] .= qhist[:,k]\n",
    "    λ = 0.0\n",
    "    \n",
    "    #KKT residual\n",
    "    r = [DEL(qhist[:,k-1],qhist[:,k],qhist[:,k+1],λ); constraint(qhist[:,k+1])]\n",
    "    \n",
    "    #Newton's method\n",
    "    while maximum(abs.(r)) > 1e-12\n",
    "        drdq3 = ForwardDiff.jacobian(dq3->DEL(qhist[:,k-1],qhist[:,k],dq3,λ),qhist[:,k+1])\n",
    "        drdλ = ForwardDiff.derivative(dλ->DEL(qhist[:,k-1],qhist[:,k],qhist[:,k+1],dλ),λ)\n",
    "        \n",
    "        Δ = -[drdq3 drdλ; dcdq(qhist[:,k+1]) 0]\\r\n",
    "        qhist[:,k+1] .= qhist[:,k+1] + Δ[1:2]\n",
    "        λ = λ + Δ[3]\n",
    "        r = [DEL(qhist[:,k-1],qhist[:,k],qhist[:,k+1],λ); constraint(qhist[:,k+1])]\n",
    "    end\n",
    "end"
   ]
  },
  {
   "cell_type": "code",
   "execution_count": null,
   "id": "34821eba",
   "metadata": {},
   "outputs": [],
   "source": [
    "plot(sol,idxs=(0,1))\n",
    "plot!(t,qhist[1,:])"
   ]
  },
  {
   "cell_type": "code",
   "execution_count": null,
   "id": "43e0d3f7",
   "metadata": {},
   "outputs": [],
   "source": [
    "#Calculate constraint violation\n",
    "N = length(t)\n",
    "c_error1 = zeros(N)\n",
    "c_error2 = zeros(N)\n",
    "for k = 1:N\n",
    "    c_error1[k] = constraint(sol(t[k])[1:2])\n",
    "    c_error2[k] = constraint(qhist[:,k])\n",
    "end\n",
    "\n",
    "plot(t,c_error1)\n",
    "plot!(t,c_error2)"
   ]
  },
  {
   "cell_type": "code",
   "execution_count": null,
   "id": "78f5a7ce",
   "metadata": {},
   "outputs": [],
   "source": []
  }
 ],
 "metadata": {
  "kernelspec": {
   "display_name": "Julia 1.6.7",
   "language": "julia",
   "name": "julia-1.6"
  },
  "language_info": {
   "file_extension": ".jl",
   "mimetype": "application/julia",
   "name": "julia",
   "version": "1.6.7"
  }
 },
 "nbformat": 4,
 "nbformat_minor": 5
}
