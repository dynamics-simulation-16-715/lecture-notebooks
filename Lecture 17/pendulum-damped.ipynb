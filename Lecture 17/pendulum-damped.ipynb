{
 "cells": [
  {
   "cell_type": "code",
   "execution_count": null,
   "id": "eff6e7bf",
   "metadata": {},
   "outputs": [],
   "source": [
    "import Pkg; Pkg.activate(@__DIR__); Pkg.instantiate()"
   ]
  },
  {
   "cell_type": "code",
   "execution_count": null,
   "id": "33eae950",
   "metadata": {},
   "outputs": [],
   "source": [
    "using LinearAlgebra\n",
    "using OrdinaryDiffEq\n",
    "using ForwardDiff\n",
    "using Plots"
   ]
  },
  {
   "cell_type": "code",
   "execution_count": null,
   "id": "e97a3945",
   "metadata": {},
   "outputs": [],
   "source": [
    "#Pendulum Parameters\n",
    "ℓ = 1.0\n",
    "m = 1.0\n",
    "g = 9.81\n",
    "c = 0.25"
   ]
  },
  {
   "cell_type": "code",
   "execution_count": null,
   "id": "b276c67e",
   "metadata": {},
   "outputs": [],
   "source": [
    "#Reference Solution w/ODE Solver\n",
    "\n",
    "#Classical pendulum dynamics\n",
    "function f(x,p,t)\n",
    "    q = x[1]\n",
    "    v = x[2]\n",
    "    \n",
    "    v̇ = -(g/ℓ)*sin(q) - c*v\n",
    "    \n",
    "    ẋ = [v; v̇]\n",
    "end\n",
    "\n",
    "#initial conditions\n",
    "x0 = [pi/2; 0]\n",
    "\n",
    "#Simulate\n",
    "tspan = (0.0,50.0)\n",
    "prob = ODEProblem(f,x0,tspan)\n",
    "sol = solve(prob,Tsit5());\n",
    "#sol = solve(prob,Tsit5(),abstol=1e-5,reltol=1e-5);\n",
    "#sol = solve(prob,Tsit5(),abstol=1e-6,reltol=1e-6);"
   ]
  },
  {
   "cell_type": "code",
   "execution_count": null,
   "id": "9e5cbbb4",
   "metadata": {},
   "outputs": [],
   "source": [
    "plot(sol,idxs=(0,1))"
   ]
  },
  {
   "cell_type": "code",
   "execution_count": null,
   "id": "a486d4c9",
   "metadata": {},
   "outputs": [],
   "source": [
    "#Energy Functions\n",
    "\n",
    "function T(θ̇)\n",
    "    0.5*m*ℓ*ℓ*θ̇*θ̇\n",
    "end\n",
    "\n",
    "function U(θ)\n",
    "    m*g*ℓ*(1-cos(θ))\n",
    "end\n",
    "\n",
    "function H(x)\n",
    "    U(x[1]) + T(x[2])\n",
    "end"
   ]
  },
  {
   "cell_type": "code",
   "execution_count": null,
   "id": "401ba644",
   "metadata": {},
   "outputs": [],
   "source": [
    "#Define discrete Lagrangian and DEL equation\n",
    "\n",
    "function L(q,q̇)\n",
    "    T(q̇) - U(q)\n",
    "end\n",
    "\n",
    "function Ld(q1,q2)\n",
    "    θm = 0.5*(q1+q2)\n",
    "    θ̇m = (q2-q1)/h\n",
    "    return h*L(θm,θ̇m)\n",
    "end\n",
    "\n",
    "function DEL(q1,q2,q3)\n",
    "    ForwardDiff.derivative(dq2->Ld(q1,dq2),q2) + ForwardDiff.derivative(dq2->Ld(dq2,q3),q2) - (h/2)*c*(q2-q1)/h - (h/2)*c*(q3-q2)/h\n",
    "end"
   ]
  },
  {
   "cell_type": "code",
   "execution_count": null,
   "id": "f4330150",
   "metadata": {},
   "outputs": [],
   "source": [
    "#Simulate using DEL equation\n",
    "\n",
    "h = 0.05 #time step\n",
    "tk = 0:h:tspan[2]\n",
    "\n",
    "#Initial conditions taken from reference solution\n",
    "q1 = sol(tk[1])[1]\n",
    "q2 = sol(tk[2])[1]\n",
    "\n",
    "qhist = zeros(length(tk))\n",
    "qhist[1] = q1\n",
    "qhist[2] = q2\n",
    "\n",
    "for k = 2:(length(tk)-1)\n",
    "    qhist[k+1] = qhist[k]\n",
    "    r = DEL(qhist[k-1],qhist[k],qhist[k+1])\n",
    "    \n",
    "    #Newton's method\n",
    "    while norm(r) > 1e-12\n",
    "        R = ForwardDiff.derivative(dq3->DEL(qhist[k-1],qhist[k],dq3),qhist[k+1])\n",
    "        qhist[k+1] = qhist[k+1] - R\\r\n",
    "        r = DEL(qhist[k-1],qhist[k],qhist[k+1])\n",
    "    end\n",
    "end"
   ]
  },
  {
   "cell_type": "code",
   "execution_count": null,
   "id": "a8628211",
   "metadata": {},
   "outputs": [],
   "source": [
    "plot(tk,qhist)\n",
    "plot!(sol,idxs=(0,1))"
   ]
  },
  {
   "cell_type": "code",
   "execution_count": null,
   "id": "2ef81491",
   "metadata": {},
   "outputs": [],
   "source": []
  }
 ],
 "metadata": {
  "kernelspec": {
   "display_name": "Julia 1.6.7",
   "language": "julia",
   "name": "julia-1.6"
  },
  "language_info": {
   "file_extension": ".jl",
   "mimetype": "application/julia",
   "name": "julia",
   "version": "1.6.7"
  }
 },
 "nbformat": 4,
 "nbformat_minor": 5
}
