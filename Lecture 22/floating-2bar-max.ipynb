{
 "cells": [
  {
   "cell_type": "code",
   "execution_count": 19,
   "id": "8819b5d3",
   "metadata": {},
   "outputs": [
    {
     "name": "stderr",
     "output_type": "stream",
     "text": [
      "\u001b[32m\u001b[1m  Activating\u001b[22m\u001b[39m environment at `~/GitHub/dynamics-simulation-16-715/lecture-notebooks/Lecture 22/Project.toml`\n"
     ]
    }
   ],
   "source": [
    "using Pkg; Pkg.activate(@__DIR__); Pkg.instantiate()"
   ]
  },
  {
   "cell_type": "code",
   "execution_count": 20,
   "id": "41739eac",
   "metadata": {},
   "outputs": [],
   "source": [
    "using LinearAlgebra\n",
    "using ForwardDiff\n",
    "using Plots"
   ]
  },
  {
   "cell_type": "code",
   "execution_count": 21,
   "id": "efbcf314",
   "metadata": {},
   "outputs": [
    {
     "data": {
      "text/plain": [
       "1.0"
      ]
     },
     "execution_count": 21,
     "metadata": {},
     "output_type": "execute_result"
    }
   ],
   "source": [
    "#Parameters\n",
    "m1 = 1.0\n",
    "m2 = 1.0\n",
    "J1 = Diagonal([0.1; 1.0; 1.0])\n",
    "J2 = Diagonal([0.1; 1.0; 1.0])\n",
    "ℓ1 = 1.0\n",
    "ℓ2 = 1.0"
   ]
  },
  {
   "cell_type": "code",
   "execution_count": 22,
   "id": "14057d71",
   "metadata": {},
   "outputs": [
    {
     "data": {
      "text/plain": [
       "12×12 SparseArrays.SparseMatrixCSC{Float64, Int64} with 12 stored entries:\n",
       " 1.0   ⋅    ⋅    ⋅    ⋅    ⋅    ⋅    ⋅    ⋅    ⋅    ⋅    ⋅ \n",
       "  ⋅   1.0   ⋅    ⋅    ⋅    ⋅    ⋅    ⋅    ⋅    ⋅    ⋅    ⋅ \n",
       "  ⋅    ⋅   1.0   ⋅    ⋅    ⋅    ⋅    ⋅    ⋅    ⋅    ⋅    ⋅ \n",
       "  ⋅    ⋅    ⋅   0.1   ⋅    ⋅    ⋅    ⋅    ⋅    ⋅    ⋅    ⋅ \n",
       "  ⋅    ⋅    ⋅    ⋅   1.0   ⋅    ⋅    ⋅    ⋅    ⋅    ⋅    ⋅ \n",
       "  ⋅    ⋅    ⋅    ⋅    ⋅   1.0   ⋅    ⋅    ⋅    ⋅    ⋅    ⋅ \n",
       "  ⋅    ⋅    ⋅    ⋅    ⋅    ⋅   1.0   ⋅    ⋅    ⋅    ⋅    ⋅ \n",
       "  ⋅    ⋅    ⋅    ⋅    ⋅    ⋅    ⋅   1.0   ⋅    ⋅    ⋅    ⋅ \n",
       "  ⋅    ⋅    ⋅    ⋅    ⋅    ⋅    ⋅    ⋅   1.0   ⋅    ⋅    ⋅ \n",
       "  ⋅    ⋅    ⋅    ⋅    ⋅    ⋅    ⋅    ⋅    ⋅   0.1   ⋅    ⋅ \n",
       "  ⋅    ⋅    ⋅    ⋅    ⋅    ⋅    ⋅    ⋅    ⋅    ⋅   1.0   ⋅ \n",
       "  ⋅    ⋅    ⋅    ⋅    ⋅    ⋅    ⋅    ⋅    ⋅    ⋅    ⋅   1.0"
      ]
     },
     "execution_count": 22,
     "metadata": {},
     "output_type": "execute_result"
    }
   ],
   "source": [
    "M̄ = [m1*I(3) zeros(3,9);\n",
    "     zeros(3,3) J1 zeros(3,6);\n",
    "     zeros(3,6) m2*I(3) zeros(3,3);\n",
    "     zeros(3,9) J2]"
   ]
  },
  {
   "cell_type": "code",
   "execution_count": 23,
   "id": "cc5df054",
   "metadata": {},
   "outputs": [
    {
     "data": {
      "text/plain": [
       "101"
      ]
     },
     "execution_count": 23,
     "metadata": {},
     "output_type": "execute_result"
    }
   ],
   "source": [
    "#Simulation Parameters\n",
    "h = 0.05 #20 Hz\n",
    "Tf = 5.0 #final time (sec)\n",
    "Thist = Array(0:h:Tf)\n",
    "N = length(Thist)"
   ]
  },
  {
   "cell_type": "code",
   "execution_count": 24,
   "id": "2a069858",
   "metadata": {},
   "outputs": [
    {
     "data": {
      "text/plain": [
       "Ḡ (generic function with 1 method)"
      ]
     },
     "execution_count": 24,
     "metadata": {},
     "output_type": "execute_result"
    }
   ],
   "source": [
    "function hat(ω)\n",
    "    return [0 -ω[3] ω[2];\n",
    "            ω[3] 0 -ω[1];\n",
    "            -ω[2] ω[1] 0]\n",
    "end\n",
    "\n",
    "function L(Q)\n",
    "    [Q[1] -Q[2:4]'; Q[2:4] Q[1]*I + hat(Q[2:4])]\n",
    "end\n",
    "\n",
    "function R(Q)\n",
    "    [Q[1] -Q[2:4]'; Q[2:4] Q[1]*I - hat(Q[2:4])]\n",
    "end\n",
    "\n",
    "H = [zeros(1,3); I];\n",
    "\n",
    "T = Diagonal([1.0; -1; -1; -1])\n",
    "\n",
    "function G(Q)\n",
    "    return L(Q)*H\n",
    "end\n",
    "\n",
    "function Ḡ(q)\n",
    "    Q1 = q[4:7]\n",
    "    Q2 = q[11:14]\n",
    "    \n",
    "    return [I zeros(3,9); zeros(4,3) G(Q1) zeros(4,6); zeros(3,6) I zeros(3,3); zeros(4,9) G(Q2)]\n",
    "end"
   ]
  },
  {
   "cell_type": "code",
   "execution_count": 25,
   "id": "2d6609df",
   "metadata": {},
   "outputs": [
    {
     "data": {
      "text/plain": [
       "DEL (generic function with 1 method)"
      ]
     },
     "execution_count": 25,
     "metadata": {},
     "output_type": "execute_result"
    }
   ],
   "source": [
    "function DEL(q_1,q_2,q_3,λ,F1,F2)\n",
    "    \n",
    "    r1_1 = q_1[1:3]\n",
    "    Q1_1 = q_1[4:7]\n",
    "    r2_1 = q_1[8:10]\n",
    "    Q2_1 = q_1[11:14]\n",
    "    \n",
    "    r1_2 = q_2[1:3]\n",
    "    Q1_2 = q_2[4:7]\n",
    "    r2_2 = q_2[8:10]\n",
    "    Q2_2 = q_2[11:14]\n",
    "    \n",
    "    r1_3 = q_3[1:3]\n",
    "    Q1_3 = q_3[4:7]\n",
    "    r2_3 = q_3[8:10]\n",
    "    Q2_3 = q_3[11:14]\n",
    "    \n",
    "    [(1/h)*m1*(r1_2-r1_1) - (1/h)*m1*(r1_3-r1_2);\n",
    "    (2.0/h)*G(Q1_2)'*L(Q1_1)*H*J1*H'*L(Q1_1)'*Q1_2 + (2.0/h)*G(Q1_2)'*T*R(Q1_3)'*H*J1*H'*L(Q1_2)'*Q1_3;\n",
    "    (1/h)*m2*(r2_2-r2_1) - (1/h)*m2*(r2_3-r2_2);\n",
    "    (2.0/h)*G(Q2_2)'*L(Q2_1)*H*J2*H'*L(Q2_1)'*Q2_2 + (2.0/h)*G(Q2_2)'*T*R(Q2_3)'*H*J2*H'*L(Q2_2)'*Q2_3] + (h/2.0)*F1 + (h/2.0)*F2 + h*Dc(q_2)'*λ\n",
    "    \n",
    "end"
   ]
  },
  {
   "cell_type": "code",
   "execution_count": 26,
   "id": "73e7f159",
   "metadata": {},
   "outputs": [
    {
     "data": {
      "text/plain": [
       "Dq3DEL (generic function with 1 method)"
      ]
     },
     "execution_count": 26,
     "metadata": {},
     "output_type": "execute_result"
    }
   ],
   "source": [
    "function Dq3DEL(q_1,q_2,q_3,λ,F1,F2)\n",
    "    ForwardDiff.jacobian(dq->DEL(q_1,q_2,dq,λ,F1,F2), q_3)*Ḡ(q_3)\n",
    "end"
   ]
  },
  {
   "cell_type": "code",
   "execution_count": 27,
   "id": "5647feb5",
   "metadata": {},
   "outputs": [
    {
     "data": {
      "text/plain": [
       "c (generic function with 1 method)"
      ]
     },
     "execution_count": 27,
     "metadata": {},
     "output_type": "execute_result"
    }
   ],
   "source": [
    "function c(q)\n",
    "    r1 = q[1:3]\n",
    "    Q1 = q[4:7]\n",
    "    r2 = q[8:10]\n",
    "    Q2 = q[11:14]\n",
    "    \n",
    "    [r1 + H'*R(Q1)'*L(Q1)*H*[0.5*ℓ1; 0; 0] - r2 - H'*R(Q2)'*L(Q2)*H*[-0.5*ℓ2; 0; 0];\n",
    "        [0 1 0 0; 0 0 1 0]*L(Q1)'*Q2]\n",
    "end"
   ]
  },
  {
   "cell_type": "code",
   "execution_count": 28,
   "id": "d0b7b96a",
   "metadata": {},
   "outputs": [
    {
     "data": {
      "text/plain": [
       "Dc (generic function with 1 method)"
      ]
     },
     "execution_count": 28,
     "metadata": {},
     "output_type": "execute_result"
    }
   ],
   "source": [
    "function Dc(q)\n",
    "    ForwardDiff.jacobian(dq->c(dq),q)*Ḡ(q)\n",
    "end"
   ]
  },
  {
   "cell_type": "code",
   "execution_count": 29,
   "id": "94fd4535",
   "metadata": {},
   "outputs": [
    {
     "data": {
      "text/plain": [
       "14-element Vector{Float64}:\n",
       " 0.0\n",
       " 0.0\n",
       " 0.0\n",
       " 1.0\n",
       " 0.0\n",
       " 0.0\n",
       " 0.0\n",
       " 1.0\n",
       " 0.0\n",
       " 0.0\n",
       " 1.0\n",
       " 0.0\n",
       " 0.0\n",
       " 0.0"
      ]
     },
     "execution_count": 29,
     "metadata": {},
     "output_type": "execute_result"
    }
   ],
   "source": [
    "#initial conditions\n",
    "r1_0 = zeros(3)\n",
    "r2_0 = [1.0; 0; 0]\n",
    "Q1_0 = [1.0; 0; 0; 0]\n",
    "Q2_0 = [1.0; 0; 0; 0]\n",
    "\n",
    "q_0 = [r1_0; Q1_0; r2_0; Q2_0]"
   ]
  },
  {
   "cell_type": "code",
   "execution_count": 31,
   "id": "d9211134",
   "metadata": {},
   "outputs": [],
   "source": [
    "#Torque input at joint\n",
    "uhist = .5*[0; 0; ones(19); -ones(40); zeros(10); ones(40); -ones(10)];\n",
    "\n",
    "#Corresponding F\n",
    "Fhist = zeros(12,N)\n",
    "for k = 1:N\n",
    "    Fhist[:,k] = [0; 0; 0; 0; 0; -uhist[k]; 0; 0; 0; 0; 0; uhist[k]]\n",
    "end"
   ]
  },
  {
   "cell_type": "code",
   "execution_count": 32,
   "id": "372cedc1",
   "metadata": {},
   "outputs": [],
   "source": [
    "#Simulate\n",
    "qhist = zeros(14,N)\n",
    "qhist[:,1] .= q_0\n",
    "qhist[:,2] .= q_0\n",
    "\n",
    "\n",
    "for k = 2:(N-1)\n",
    "    \n",
    "    #Initial guess\n",
    "    qhist[:,k+1] .= qhist[:,k]\n",
    "    λ = zeros(5)\n",
    "    \n",
    "    e = [DEL(qhist[:,k-1],qhist[:,k],qhist[:,k+1],λ,Fhist[:,k-1],Fhist[:,k]); c(qhist[:,k+1])]\n",
    "    \n",
    "    while maximum(abs.(e)) > 1e-12\n",
    "        D = Dq3DEL(qhist[:,k-1],qhist[:,k],qhist[:,k+1],λ,Fhist[:,k-1],Fhist[:,k])\n",
    "        C2 = Dc(qhist[:,k])\n",
    "        C3 = Dc(qhist[:,k+1])\n",
    "        \n",
    "        Δ = -[D h*C2'; C3 zeros(5,5)]\\e\n",
    "        \n",
    "        qhist[1:3,k+1] .= qhist[1:3,k+1] + Δ[1:3]\n",
    "        qhist[4:7,k+1] .= L(qhist[4:7,k+1])*[sqrt(1-Δ[4:6]'*Δ[4:6]); Δ[4:6]]\n",
    "        qhist[8:10,k+1] .= qhist[8:10,k+1] + Δ[7:9]\n",
    "        qhist[11:14,k+1] .= L(qhist[11:14,k+1])*[sqrt(1-Δ[10:12]'*Δ[10:12]); Δ[10:12]]\n",
    "        \n",
    "        λ .= λ + Δ[13:17]\n",
    "        \n",
    "        e = [DEL(qhist[:,k-1],qhist[:,k],qhist[:,k+1],λ,Fhist[:,k-1],Fhist[:,k]); c(qhist[:,k+1])]\n",
    "    end\n",
    "    \n",
    "end"
   ]
  },
  {
   "cell_type": "code",
   "execution_count": 33,
   "id": "78411625",
   "metadata": {},
   "outputs": [],
   "source": [
    "using MeshCat, GeometryBasics, CoordinateTransformations, Rotations"
   ]
  },
  {
   "cell_type": "code",
   "execution_count": 34,
   "id": "91b53d5b",
   "metadata": {},
   "outputs": [
    {
     "name": "stderr",
     "output_type": "stream",
     "text": [
      "┌ Info: MeshCat server started. You can open the visualizer by visiting the following URL in your browser:\n",
      "│ http://127.0.0.1:8703\n",
      "└ @ MeshCat /Users/zac/.julia/packages/MeshCat/Ax8pH/src/visualizer.jl:73\n"
     ]
    },
    {
     "data": {
      "text/html": [
       "    <div style=\"height: 500px; width: 100%; overflow-x: auto; overflow-y: hidden; resize: both\">\n",
       "    <iframe src=\"http://127.0.0.1:8703\" style=\"width: 100%; height: 100%; border: none\"></iframe>\n",
       "    </div>\n"
      ],
      "text/plain": [
       "MeshCat.DisplayedVisualizer(MeshCat.CoreVisualizer(MeshCat.SceneTrees.SceneNode(nothing, nothing, Dict{String, Vector{UInt8}}(), nothing, Dict{String, MeshCat.SceneTrees.SceneNode}()), Set{Any}(), ip\"127.0.0.1\", 8703))"
      ]
     },
     "execution_count": 34,
     "metadata": {},
     "output_type": "execute_result"
    }
   ],
   "source": [
    "vis = Visualizer()\n",
    "render(vis)"
   ]
  },
  {
   "cell_type": "code",
   "execution_count": 35,
   "id": "6e64bf2d",
   "metadata": {},
   "outputs": [],
   "source": [
    "delete!(vis)\n",
    "\n",
    "green_material = MeshPhongMaterial(color=RGBA(0, 1, 0, 0.8))\n",
    "cylinder1 = Cylinder(Point(-.5, 0, 0), Point(0.5, 0, 0), 0.1)\n",
    "setobject!(vis[\"cylinder1\"],cylinder1,green_material)\n",
    "\n",
    "red_material = MeshPhongMaterial(color=RGBA(1, 0, 0, 0.8))\n",
    "cylinder2 = Cylinder(Point(-.5, 0, 0), Point(0.5, 0, 0), 0.1)\n",
    "setobject!(vis[\"cylinder2\"],cylinder2,red_material)\n",
    "\n",
    "for k = 1:N\n",
    "    \n",
    "    # set position and attitude\n",
    "    position1 = Translation(qhist[1:3,k]...)\n",
    "    attitude1 = LinearMap(UnitQuaternion(qhist[4:7,k]))\n",
    "    position2 = Translation(qhist[8:10,k]...)\n",
    "    attitude2 = LinearMap(UnitQuaternion(qhist[11:14,k]))\n",
    "    \n",
    "    settransform!(vis[\"cylinder1\"], compose(position1,attitude1))\n",
    "    settransform!(vis[\"cylinder2\"], compose(position2,attitude2))\n",
    "    sleep(0.05)\n",
    "end"
   ]
  },
  {
   "cell_type": "code",
   "execution_count": 36,
   "id": "8187353b-2141-4443-99c9-f14225431c69",
   "metadata": {},
   "outputs": [
    {
     "data": {
      "text/plain": [
       "3-element Vector{Float64}:\n",
       " 0.5\n",
       " 0.0\n",
       " 0.0"
      ]
     },
     "execution_count": 36,
     "metadata": {},
     "output_type": "execute_result"
    }
   ],
   "source": [
    "0.5*(qhist[1:3,1] + qhist[8:10,1])"
   ]
  },
  {
   "cell_type": "code",
   "execution_count": 37,
   "id": "0a3da13f-2c69-49f4-a36f-9dd5949414ee",
   "metadata": {},
   "outputs": [
    {
     "data": {
      "text/plain": [
       "3-element Vector{Float64}:\n",
       " 0.5000000000000083\n",
       " 0.0\n",
       " 0.0"
      ]
     },
     "execution_count": 37,
     "metadata": {},
     "output_type": "execute_result"
    }
   ],
   "source": [
    "0.5*(qhist[1:3,end] + qhist[8:10,end])"
   ]
  },
  {
   "cell_type": "code",
   "execution_count": null,
   "id": "da9ef9ab-0c0c-46fc-87f2-e766b286f97a",
   "metadata": {},
   "outputs": [],
   "source": []
  }
 ],
 "metadata": {
  "kernelspec": {
   "display_name": "Julia 1.6.7",
   "language": "julia",
   "name": "julia-1.6"
  },
  "language_info": {
   "file_extension": ".jl",
   "mimetype": "application/julia",
   "name": "julia",
   "version": "1.6.7"
  }
 },
 "nbformat": 4,
 "nbformat_minor": 5
}
