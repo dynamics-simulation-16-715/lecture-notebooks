{
 "cells": [
  {
   "cell_type": "code",
   "execution_count": null,
   "id": "7438b978",
   "metadata": {},
   "outputs": [],
   "source": [
    "import Pkg; Pkg.activate(@__DIR__); Pkg.instantiate()"
   ]
  },
  {
   "cell_type": "code",
   "execution_count": null,
   "id": "eaec848b",
   "metadata": {},
   "outputs": [],
   "source": [
    "using LinearAlgebra\n",
    "using PyPlot\n",
    "using ForwardDiff"
   ]
  },
  {
   "cell_type": "code",
   "execution_count": null,
   "id": "99b6635d",
   "metadata": {},
   "outputs": [],
   "source": [
    "ℓ = 1.0\n",
    "m = 1.0\n",
    "c = 30.0\n",
    "g = 9.81\n",
    "\n",
    "function f(x)\n",
    "    #pendulum dynamics\n",
    "    \n",
    "    θ = x[1]\n",
    "    θ̇ = x[2]\n",
    "    \n",
    "    ẋ = [θ̇; -(g/ℓ)*sin(θ)-c*θ̇]\n",
    "end"
   ]
  },
  {
   "cell_type": "code",
   "execution_count": null,
   "id": "529d295e",
   "metadata": {},
   "outputs": [],
   "source": [
    "function euler_step(xk)\n",
    "    xn = xk + h*f(xk)\n",
    "end"
   ]
  },
  {
   "cell_type": "code",
   "execution_count": null,
   "id": "fa2a2588",
   "metadata": {},
   "outputs": [],
   "source": [
    "function taylor_step(xk)\n",
    "    Ak = ForwardDiff.jacobian(f,xk)\n",
    "    xn = xk + h*f(xk) + 0.5*h*h*Ak*f(xk)\n",
    "end"
   ]
  },
  {
   "cell_type": "code",
   "execution_count": null,
   "id": "fa802858",
   "metadata": {},
   "outputs": [],
   "source": [
    "function implicit_midpoint_step(xk)\n",
    "    xn = xk\n",
    "    r = xn - xk - h*f(0.5*xk + 0.5*xn)\n",
    "    while maximum(abs.(r)) > 1e-12\n",
    "        R = ForwardDiff.jacobian(x -> x-xk-h*f(0.5*xk + 0.5*x), xn)\n",
    "        Δxn = -R\\r\n",
    "        xn += Δxn\n",
    "        r = xn - xk - h*f(0.5*xk + 0.5*xn)\n",
    "    end\n",
    "    \n",
    "    return xn\n",
    "end"
   ]
  },
  {
   "cell_type": "code",
   "execution_count": null,
   "id": "eccd70d7",
   "metadata": {},
   "outputs": [],
   "source": [
    "function explicit_midpoint_step(xk)\n",
    "    xm = xk + 0.5*h*f(xk)\n",
    "    xn = xk + h*f(xm)\n",
    "end"
   ]
  },
  {
   "cell_type": "code",
   "execution_count": null,
   "id": "533e2eda",
   "metadata": {},
   "outputs": [],
   "source": [
    "function simulate_euler!(xtraj, N)\n",
    "    for k = 1:(N-1)\n",
    "        xtraj[:,k+1] .= euler_step(xtraj[:,k])\n",
    "    end\n",
    "end"
   ]
  },
  {
   "cell_type": "code",
   "execution_count": null,
   "id": "d29c2467",
   "metadata": {},
   "outputs": [],
   "source": [
    "function simulate_taylor!(xtraj, N)\n",
    "    for k = 1:(N-1)\n",
    "        xtraj[:,k+1] .= taylor_step(xtraj[:,k])\n",
    "    end\n",
    "end"
   ]
  },
  {
   "cell_type": "code",
   "execution_count": null,
   "id": "d9a5b652",
   "metadata": {},
   "outputs": [],
   "source": [
    "function simulate_implicit_mid!(xtraj, N)\n",
    "    for k = 1:(N-1)\n",
    "        xtraj[:,k+1] .= implicit_midpoint_step(xtraj[:,k])\n",
    "    end\n",
    "end"
   ]
  },
  {
   "cell_type": "code",
   "execution_count": null,
   "id": "069bec52",
   "metadata": {},
   "outputs": [],
   "source": [
    "function simulate_explicit_mid!(xtraj, N)\n",
    "    for k = 1:(N-1)\n",
    "        xtraj[:,k+1] .= explicit_midpoint_step(xtraj[:,k])\n",
    "    end\n",
    "end"
   ]
  },
  {
   "cell_type": "code",
   "execution_count": null,
   "id": "78c55ebc",
   "metadata": {},
   "outputs": [],
   "source": [
    "Tf = 10.0\n",
    "h = 0.1 #50 Hz\n",
    "N = Int(floor(Tf./h + 1))\n",
    "thist = h.*Array(0:(N-1));"
   ]
  },
  {
   "cell_type": "code",
   "execution_count": null,
   "id": "7d1f831a",
   "metadata": {},
   "outputs": [],
   "source": [
    "x0 = [30*(pi/180); 0.0]\n",
    "xtraj1 = zeros(2,N)\n",
    "xtraj2 = zeros(2,N)\n",
    "xtraj3 = zeros(2,N)\n",
    "xtraj4 = zeros(2,N)\n",
    "xtraj1[:,1] = x0;\n",
    "xtraj2[:,1] = x0;\n",
    "xtraj3[:,1] = x0;\n",
    "xtraj4[:,1] = x0;"
   ]
  },
  {
   "cell_type": "code",
   "execution_count": null,
   "id": "9cd13c10",
   "metadata": {},
   "outputs": [],
   "source": [
    "simulate_euler!(xtraj1, N)"
   ]
  },
  {
   "cell_type": "code",
   "execution_count": null,
   "id": "7dd27c6c",
   "metadata": {},
   "outputs": [],
   "source": [
    "simulate_taylor!(xtraj2, N)"
   ]
  },
  {
   "cell_type": "code",
   "execution_count": null,
   "id": "93f21c74",
   "metadata": {},
   "outputs": [],
   "source": [
    "simulate_implicit_mid!(xtraj3, N)"
   ]
  },
  {
   "cell_type": "code",
   "execution_count": null,
   "id": "f81193c3",
   "metadata": {},
   "outputs": [],
   "source": [
    "simulate_explicit_mid!(xtraj4, N)"
   ]
  },
  {
   "cell_type": "code",
   "execution_count": null,
   "id": "c5a6be11",
   "metadata": {},
   "outputs": [],
   "source": [
    "using TrajOptPlots\n",
    "using MeshCat\n",
    "using StaticArrays\n",
    "using RobotZoo\n",
    "\n",
    "vis = Visualizer()\n",
    "TrajOptPlots.set_mesh!(vis, RobotZoo.Pendulum())\n",
    "render(vis)"
   ]
  },
  {
   "cell_type": "code",
   "execution_count": null,
   "id": "25d7b9b2",
   "metadata": {},
   "outputs": [],
   "source": [
    "X1 = [SVector{2}(x) for x in eachcol(xtraj3)];\n",
    "visualize!(vis, RobotZoo.Pendulum(), thist[end], X1)"
   ]
  },
  {
   "cell_type": "code",
   "execution_count": null,
   "id": "556888d0",
   "metadata": {},
   "outputs": [],
   "source": [
    "#plot(thist,xtraj1[1,:])\n",
    "#plot(thist,xtraj2[1,:])\n",
    "plot(thist,xtraj3[1,:])\n",
    "plot(thist,xtraj4[1,:])\n",
    "xlabel(\"Time (sec)\")\n",
    "ylabel(\"θ (rad)\")"
   ]
  },
  {
   "cell_type": "code",
   "execution_count": null,
   "id": "883f5f3b",
   "metadata": {
    "scrolled": true
   },
   "outputs": [],
   "source": [
    "#Let's plot the total energy of the system\n",
    "Ehist1 = 0.5*m*ℓ^2*(xtraj1[2,:].^2) .+ m*g*ℓ*(1.0.-cos.(xtraj1[1,:]))\n",
    "Ehist2 = 0.5*m*ℓ^2*(xtraj2[2,:].^2) .+ m*g*ℓ*(1.0.-cos.(xtraj2[1,:]))\n",
    "Ehist3 = 0.5*m*ℓ^2*(xtraj3[2,:].^2) .+ m*g*ℓ*(1.0.-cos.(xtraj3[1,:]))\n",
    "Ehist4 = 0.5*m*ℓ^2*(xtraj4[2,:].^2) .+ m*g*ℓ*(1.0.-cos.(xtraj4[1,:]))\n",
    "#plot(thist,Ehist1)\n",
    "#plot(thist,Ehist2)\n",
    "plot(thist,Ehist3)\n",
    "#plot(thist,Ehist4)\n",
    "xlabel(\"Time (sec)\")\n",
    "ylabel(\"Total Energy\")"
   ]
  },
  {
   "cell_type": "code",
   "execution_count": null,
   "id": "74cb6c9b-415c-4f80-969d-083c5891f4d3",
   "metadata": {},
   "outputs": [],
   "source": []
  }
 ],
 "metadata": {
  "kernelspec": {
   "display_name": "Julia 1.6.7",
   "language": "julia",
   "name": "julia-1.6"
  },
  "language_info": {
   "file_extension": ".jl",
   "mimetype": "application/julia",
   "name": "julia",
   "version": "1.6.7"
  }
 },
 "nbformat": 4,
 "nbformat_minor": 5
}
