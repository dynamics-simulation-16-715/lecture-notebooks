{
 "cells": [
  {
   "cell_type": "code",
   "execution_count": null,
   "id": "321bbf89",
   "metadata": {},
   "outputs": [],
   "source": [
    "import Pkg; Pkg.activate(@__DIR__); Pkg.instantiate()"
   ]
  },
  {
   "cell_type": "code",
   "execution_count": null,
   "id": "929635b1",
   "metadata": {},
   "outputs": [],
   "source": [
    "using LinearAlgebra\n",
    "using OrdinaryDiffEq\n",
    "using ForwardDiff\n",
    "using Plots"
   ]
  },
  {
   "cell_type": "code",
   "execution_count": null,
   "id": "51e03382",
   "metadata": {},
   "outputs": [],
   "source": [
    "#Parameters\n",
    "g = 9.81\n",
    "m = 1.0 #link mass\n",
    "ℓ = 1.0 #link length\n",
    "J = 0.5*m*ℓ*ℓ #link inertia"
   ]
  },
  {
   "cell_type": "code",
   "execution_count": null,
   "id": "3c48fba0",
   "metadata": {},
   "outputs": [],
   "source": [
    "function kinematics(q)\n",
    "    \n",
    "    r = [0.5*ℓ*sin(q[1]); -0.5*ℓ*cos(q[1]); q[1]; \n",
    "         ℓ*sin(q[1]) + 0.5*ℓ*sin(q[1]+q[2]);\n",
    "         -ℓ*cos(q[1]) - 0.5*ℓ*cos(q[1]+q[2]);\n",
    "         q[1]+q[2]]\n",
    "end"
   ]
  },
  {
   "cell_type": "code",
   "execution_count": null,
   "id": "f1087e4f",
   "metadata": {},
   "outputs": [],
   "source": [
    "function potential(q)\n",
    "    \n",
    "    r = kinematics(q)\n",
    "    y1 = r[2]\n",
    "    y2 = r[5]\n",
    "    \n",
    "    U = m*g*y1 + m*g*y2\n",
    "end"
   ]
  },
  {
   "cell_type": "code",
   "execution_count": null,
   "id": "21ab5555",
   "metadata": {},
   "outputs": [],
   "source": [
    "function kinetic(q,q̇)\n",
    "    \n",
    "    K = ForwardDiff.jacobian(kinematics,q)\n",
    "    ṙ = K*q̇\n",
    "    \n",
    "    T = 0.5*ṙ'*Diagonal([m; m; J; m; m; J])*ṙ\n",
    "end"
   ]
  },
  {
   "cell_type": "code",
   "execution_count": null,
   "id": "25cab4c6",
   "metadata": {},
   "outputs": [],
   "source": [
    "function Lagrangian(q,q̇)\n",
    "    return kinetic(q,q̇) - potential(q)\n",
    "end"
   ]
  },
  {
   "cell_type": "code",
   "execution_count": null,
   "id": "3c21e8d1",
   "metadata": {},
   "outputs": [],
   "source": [
    "function D1L(q,q̇)\n",
    "    return ForwardDiff.gradient(dq->Lagrangian(dq,q̇),q)\n",
    "end\n",
    "\n",
    "function D2L(q,q̇)\n",
    "    return ForwardDiff.gradient(dq̇->Lagrangian(q,dq̇),q̇)\n",
    "end\n",
    "\n",
    "function D2D2L(q,q̇)\n",
    "    return ForwardDiff.jacobian(dq̇->D2L(q,dq̇),q̇)\n",
    "end\n",
    "\n",
    "function D1D2L(q,q̇)\n",
    "    return ForwardDiff.jacobian(dq->D2L(dq,q̇),q)\n",
    "end"
   ]
  },
  {
   "cell_type": "code",
   "execution_count": null,
   "id": "8962529f",
   "metadata": {},
   "outputs": [],
   "source": [
    "function dynamics(x,τ)\n",
    "    q = x[1:2]\n",
    "    q̇ = x[3:4]\n",
    "    \n",
    "    #Forced Euler-Lagrange Equation\n",
    "    q̈ = D2D2L(q,q̇)\\(D1L(q,q̇) - D1D2L(q,q̇)*q̇ + τ)\n",
    "    \n",
    "    ẋ = [q̇; q̈]\n",
    "end"
   ]
  },
  {
   "cell_type": "code",
   "execution_count": null,
   "id": "cb374202",
   "metadata": {},
   "outputs": [],
   "source": [
    "function controller(x)\n",
    "    q = x[1:2]\n",
    "    q̇ = x[3:4]\n",
    "    \n",
    "    kp = 100.0\n",
    "    kd = 10.0\n",
    "    \n",
    "    u = -kp*(q-[pi; 0.0]) - kd*q̇\n",
    "end"
   ]
  },
  {
   "cell_type": "code",
   "execution_count": null,
   "id": "a7054ffa",
   "metadata": {},
   "outputs": [],
   "source": [
    "#Simulate\n",
    "x0 = randn(4)\n",
    "\n",
    "function f(x,p,t)\n",
    "    #u = zeros(2)\n",
    "    u = controller(x)\n",
    "    dynamics(x, u)\n",
    "end\n",
    "\n",
    "tspan = (0.0,10.0)\n",
    "prob = ODEProblem(f,x0,tspan)\n",
    "sol = solve(prob,Tsit5(),abstol=1e-6,reltol=1e-6);"
   ]
  },
  {
   "cell_type": "code",
   "execution_count": null,
   "id": "9f07b6dc",
   "metadata": {},
   "outputs": [],
   "source": [
    "plot(sol,idxs=(0,1))\n",
    "plot!(sol,idxs=(0,2))"
   ]
  },
  {
   "cell_type": "code",
   "execution_count": null,
   "id": "5815ea2f",
   "metadata": {},
   "outputs": [],
   "source": [
    "function y(q)\n",
    "    #We're going to apply a force in the x-direction at the end of the 2nd link\n",
    "    return ℓ*sin(q[1]) + ℓ*sin(q[1]+q[2])\n",
    "end\n",
    "\n",
    "function Y(q)\n",
    "    ForwardDiff.gradient(dq->y(dq),q)'\n",
    "end"
   ]
  },
  {
   "cell_type": "code",
   "execution_count": null,
   "id": "9d331737",
   "metadata": {},
   "outputs": [],
   "source": [
    "function dynamics(x,F)\n",
    "    q = x[1:2]\n",
    "    q̇ = x[3:4]\n",
    "    \n",
    "    #damping constant\n",
    "    c = 10.0\n",
    "    \n",
    "    #Forced Euler-Lagrange Equation\n",
    "    q̈ = D2D2L(q,q̇)\\(D1L(q,q̇) - D1D2L(q,q̇)*q̇ - c*q̇ + Y(q)'*F)\n",
    "    \n",
    "    ẋ = [q̇; q̈]\n",
    "end"
   ]
  },
  {
   "cell_type": "code",
   "execution_count": null,
   "id": "2f16add4",
   "metadata": {},
   "outputs": [],
   "source": [
    "#Simulate\n",
    "x0 = zeros(4)\n",
    "\n",
    "function f(x,p,t)\n",
    "    F = 100.0\n",
    "    dynamics(x, F)\n",
    "end\n",
    "\n",
    "tspan = (0.0,10.0)\n",
    "prob = ODEProblem(f,x0,tspan)\n",
    "sol = solve(prob,Tsit5(),abstol=1e-6,reltol=1e-6);"
   ]
  },
  {
   "cell_type": "code",
   "execution_count": null,
   "id": "967b7f60",
   "metadata": {},
   "outputs": [],
   "source": [
    "plot(sol,idxs=(0,1))\n",
    "plot!(sol,idxs=(0,2))"
   ]
  },
  {
   "cell_type": "code",
   "execution_count": null,
   "id": "0286ff0a",
   "metadata": {},
   "outputs": [],
   "source": []
  }
 ],
 "metadata": {
  "kernelspec": {
   "display_name": "Julia 1.6.7",
   "language": "julia",
   "name": "julia-1.6"
  },
  "language_info": {
   "file_extension": ".jl",
   "mimetype": "application/julia",
   "name": "julia",
   "version": "1.6.7"
  }
 },
 "nbformat": 4,
 "nbformat_minor": 5
}
